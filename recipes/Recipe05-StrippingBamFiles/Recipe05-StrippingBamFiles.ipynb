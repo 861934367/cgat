{
 "metadata": {
  "name": "",
  "signature": "sha256:61f00d37bd84133297a921aa5a9c2a098709a20b68865f094b37483658a49e51"
 },
 "nbformat": 3,
 "nbformat_minor": 0,
 "worksheets": [
  {
   "cells": [
    {
     "cell_type": "heading",
     "level": 1,
     "metadata": {},
     "source": [
      "Stripping BAM files of sequence/quality information"
     ]
    },
    {
     "cell_type": "markdown",
     "metadata": {},
     "source": [
      "BAM files contain the alignment information for reads mapping\n",
      "to a genome. This information includes the position a read\n",
      "matches, various flags and quality metrics of the match, but also\n",
      "the sequence of a read and the base quality scores of a read.\n",
      "\n",
      "The read sequence and base quality scores are essential for deduping and\n",
      "for applications such as variant calling. But once your are think \n",
      "that your BAM-files contains only reads that have been mapped with\n",
      "confidence, the sequence and base quality scores are not required\n",
      "for tag counting applications such as RNA-seq or ChIP-seq and can\n",
      "be discarded.\n",
      "\n",
      "The mapped  positions could be converted into a bed file, but for workflows\n",
      "requiring bam-files, the *bam2bam* utility permits removing\n",
      "read sequences and quality scores directly."
     ]
    },
    {
     "cell_type": "markdown",
     "metadata": {},
     "source": [
      "The following command will remove the sequence and quality information from the file rnaseq_hg19_chr19.bam"
     ]
    },
    {
     "cell_type": "code",
     "collapsed": false,
     "input": [
      "!cgat bam2bam --strip-method=all --method=strip-sequence --log=strip.log < rnaseq_hg19_chr19.bam > stripped.bam"
     ],
     "language": "python",
     "metadata": {},
     "outputs": [],
     "prompt_number": 2
    },
    {
     "cell_type": "code",
     "collapsed": false,
     "input": [
      "!ls -hlL rnaseq_hg19_chr19.bam stripped.bam"
     ],
     "language": "python",
     "metadata": {},
     "outputs": [
      {
       "output_type": "stream",
       "stream": "stdout",
       "text": [
        "-rw-rw-r-- 1 andreas usersfgu 788M Apr  2  2014 rnaseq_hg19_chr19.bam\r\n",
        "-rw-rw-r-- 1 andreas usersfgu 215M Nov  6 16:41 stripped.bam\r\n"
       ]
      }
     ],
     "prompt_number": 4
    },
    {
     "cell_type": "raw",
     "metadata": {},
     "source": [
      "The size of the BAM files has dropped from 788M to 215M. The bam-file can be used for further processing."
     ]
    },
    {
     "cell_type": "code",
     "collapsed": false,
     "input": [
      "!samtools flagstat stripped.bam"
     ],
     "language": "python",
     "metadata": {},
     "outputs": [
      {
       "output_type": "stream",
       "stream": "stdout",
       "text": [
        "14998038 + 0 in total (QC-passed reads + QC-failed reads)\r\n",
        "0 + 0 secondary\r\n",
        "0 + 0 supplimentary\r\n",
        "0 + 0 duplicates\r\n",
        "14998038 + 0 mapped (100.00%:-nan%)\r\n",
        "14998038 + 0 paired in sequencing\r\n",
        "7388885 + 0 read1\r\n",
        "7609153 + 0 read2\r\n",
        "13659120 + 0 properly paired (91.07%:-nan%)\r\n",
        "14745975 + 0 with itself and mate mapped\r\n",
        "252063 + 0 singletons (1.68%:-nan%)\r\n",
        "1086855 + 0 with mate mapped to a different chr\r\n",
        "1086855 + 0 with mate mapped to a different chr (mapQ>=5)\r\n"
       ]
      }
     ],
     "prompt_number": 5
    },
    {
     "cell_type": "markdown",
     "metadata": {},
     "source": [
      "Nothing has changed compared to our original bam file"
     ]
    },
    {
     "cell_type": "code",
     "collapsed": false,
     "input": [
      "!samtools flagstat rnaseq_hg19_chr19.bam"
     ],
     "language": "python",
     "metadata": {},
     "outputs": [
      {
       "output_type": "stream",
       "stream": "stdout",
       "text": [
        "14998038 + 0 in total (QC-passed reads + QC-failed reads)\r\n",
        "0 + 0 secondary\r\n",
        "0 + 0 supplimentary\r\n",
        "0 + 0 duplicates\r\n",
        "14998038 + 0 mapped (100.00%:-nan%)\r\n",
        "14998038 + 0 paired in sequencing\r\n",
        "7388885 + 0 read1\r\n",
        "7609153 + 0 read2\r\n",
        "13659120 + 0 properly paired (91.07%:-nan%)\r\n",
        "14745975 + 0 with itself and mate mapped\r\n",
        "252063 + 0 singletons (1.68%:-nan%)\r\n",
        "1086855 + 0 with mate mapped to a different chr\r\n",
        "1086855 + 0 with mate mapped to a different chr (mapQ>=5)\r\n"
       ]
      }
     ],
     "prompt_number": 6
    },
    {
     "cell_type": "raw",
     "metadata": {},
     "source": [
      "Some tools might fail if there is no sequence information in the bam file."
     ]
    },
    {
     "cell_type": "code",
     "collapsed": false,
     "input": [
      "!cat stripped.bam | CollectMultipleMetrics INPUT=/dev/stdin OUTPUT=metrics.txt"
     ],
     "language": "python",
     "metadata": {},
     "outputs": [
      {
       "output_type": "stream",
       "stream": "stdout",
       "text": [
        "[Thu Nov 06 16:45:47 GMT 2014] net.sf.picard.analysis.CollectMultipleMetrics INPUT=/dev/stdin OUTPUT=metrics.txt    ASSUME_SORTED=true STOP_AFTER=0 PROGRAM=[CollectAlignmentSummaryMetrics, CollectInsertSizeMetrics, QualityScoreDistribution, MeanQualityByCycle] VERBOSITY=INFO QUIET=false VALIDATION_STRINGENCY=STRICT COMPRESSION_LEVEL=5 MAX_RECORDS_IN_RAM=500000 CREATE_INDEX=false CREATE_MD5_FILE=false\r\n"
       ]
      },
      {
       "output_type": "stream",
       "stream": "stdout",
       "text": [
        "[Thu Nov 06 16:45:47 GMT 2014] Executing as andreas@cgat150.anat.ox.ac.uk on Linux 2.6.32-431.29.2.el6.x86_64 amd64; Java HotSpot(TM) 64-Bit Server VM 1.6.0_26-b03; Picard version: 1.106(1655) IntelDeflater\r\n",
        "WARNING\t2014-11-06 16:45:47\tSinglePassSamProgram\tFile reports sort order 'unsorted', assuming it's coordinate sorted anyway.\r\n"
       ]
      },
      {
       "output_type": "stream",
       "stream": "stdout",
       "text": [
        "[Thu Nov 06 16:45:47 GMT 2014] net.sf.picard.analysis.CollectMultipleMetrics done. Elapsed time: 0.00 minutes.\r\n",
        "Runtime.totalMemory()=85000192\r\n",
        "To get help, see http://picard.sourceforge.net/index.shtml#GettingHelp\r\n",
        "Exception in thread \"main\" net.sf.samtools.SAMFormatException: SAM validation error: ERROR: Record 1, Read name JOHNLENNON_0006:3:13:4020:10309#0, Zero-length read without FZ, CS or CQ tag\r\n",
        "\tat net.sf.samtools.SAMUtils.processValidationErrors(SAMUtils.java:448)\r\n",
        "\tat net.sf.samtools.BAMFileReader$BAMFileIterator.advance(BAMFileReader.java:621)\r\n",
        "\tat net.sf.samtools.BAMFileReader$BAMFileIterator.<init>(BAMFileReader.java:594)\r\n",
        "\tat net.sf.samtools.BAMFileReader$BAMFileIterator.<init>(BAMFileReader.java:582)\r\n",
        "\tat net.sf.samtools.BAMFileReader.getIterator(BAMFileReader.java:294)\r\n",
        "\tat net.sf.samtools.SAMFileReader.iterator(SAMFileReader.java:336)\r\n",
        "\tat net.sf.samtools.SAMFileReader.iterator(SAMFileReader.java:43)\r\n",
        "\tat net.sf.picard.analysis.SinglePassSamProgram.makeItSo(SinglePassSamProgram.java:109)\r\n",
        "\tat net.sf.picard.analysis.CollectMultipleMetrics.doWork(CollectMultipleMetrics.java:136)\r\n",
        "\tat net.sf.picard.cmdline.CommandLineProgram.instanceMain(CommandLineProgram.java:179)\r\n",
        "\tat net.sf.picard.cmdline.CommandLineProgram.instanceMainWithExit(CommandLineProgram.java:120)\r\n",
        "\tat net.sf.picard.analysis.CollectMultipleMetrics.main(CollectMultipleMetrics.java:100)\r\n",
        "cat: write error: Broken pipe\r\n"
       ]
      }
     ],
     "prompt_number": 7
    },
    {
     "cell_type": "raw",
     "metadata": {},
     "source": [
      "In this case, the sequence information can be added back either with dummy sequence:"
     ]
    },
    {
     "cell_type": "code",
     "collapsed": false,
     "input": [
      "!cat rnaseq_hg19_chr19.bam | cgat bam2bam -v 0 --method=set-sequence --sam-file - | CollectMultipleMetrics INPUT=/dev/stdin OUTPUT=metrics.txt VALIDATION_STRINGENCY=SILENT"
     ],
     "language": "python",
     "metadata": {},
     "outputs": [
      {
       "output_type": "stream",
       "stream": "stdout",
       "text": [
        "[Thu Nov 06 16:45:48 GMT 2014] net.sf.picard.analysis.CollectMultipleMetrics INPUT=/dev/stdin OUTPUT=metrics.txt VALIDATION_STRINGENCY=SILENT    ASSUME_SORTED=true STOP_AFTER=0 PROGRAM=[CollectAlignmentSummaryMetrics, CollectInsertSizeMetrics, QualityScoreDistribution, MeanQualityByCycle] VERBOSITY=INFO QUIET=false COMPRESSION_LEVEL=5 MAX_RECORDS_IN_RAM=500000 CREATE_INDEX=false CREATE_MD5_FILE=false\r\n"
       ]
      },
      {
       "output_type": "stream",
       "stream": "stdout",
       "text": [
        "[Thu Nov 06 16:45:48 GMT 2014] Executing as andreas@cgat150.anat.ox.ac.uk on Linux 2.6.32-431.29.2.el6.x86_64 amd64; Java HotSpot(TM) 64-Bit Server VM 1.6.0_26-b03; Picard version: 1.106(1655) IntelDeflater\r\n"
       ]
      },
      {
       "output_type": "stream",
       "stream": "stdout",
       "text": [
        "WARNING\t"
       ]
      },
      {
       "output_type": "stream",
       "stream": "stdout",
       "text": [
        "2014-11-06 16:45:48\tSinglePassSamProgram\tFile reports sort order 'unsorted', assuming it's coordinate sorted anyway.\r\n"
       ]
      },
      {
       "output_type": "stream",
       "stream": "stdout",
       "text": [
        "INFO\t2014-11-06 16:45:54\tSinglePassSamProgram\tProcessed     1,000,000 records.  Elapsed time: 00:00:05s.  Time for last 1,000,000:    5s.  Last read position: chr19:2,078,150\r\n"
       ]
      },
      {
       "output_type": "stream",
       "stream": "stdout",
       "text": [
        "INFO\t2014-11-06 16:45:58\tSinglePassSamProgram\tProcessed     2,000,000 records.  Elapsed time: 00:00:09s.  Time for last 1,000,000:    4s.  Last read position: chr19:3,980,560\r\n"
       ]
      },
      {
       "output_type": "stream",
       "stream": "stdout",
       "text": [
        "INFO\t2014-11-06 16:46:03\tSinglePassSamProgram\tProcessed     3,000,000 records.  Elapsed time: 00:00:14s.  Time for last 1,000,000:    4s.  Last read position: chr19:6,587,417\r\n"
       ]
      },
      {
       "output_type": "stream",
       "stream": "stdout",
       "text": [
        "INFO\t2014-11-06 16:46:08\tSinglePassSamProgram\tProcessed     4,000,000 records.  Elapsed time: 00:00:19s.  Time for last 1,000,000:    4s.  Last read position: chr19:10,503,934\r\n"
       ]
      },
      {
       "output_type": "stream",
       "stream": "stdout",
       "text": [
        "INFO\t2014-11-06 16:46:13\tSinglePassSamProgram\tProcessed     5,000,000 records.  Elapsed time: 00:00:24s.  Time for last 1,000,000:    4s.  Last read position: chr19:12,907,914\r\n"
       ]
      },
      {
       "output_type": "stream",
       "stream": "stdout",
       "text": [
        "INFO\t2014-11-06 16:46:18\tSinglePassSamProgram\tProcessed     6,000,000 records.  Elapsed time: 00:00:29s.  Time for last 1,000,000:    4s.  Last read position: chr19:16,666,153\r\n"
       ]
      },
      {
       "output_type": "stream",
       "stream": "stdout",
       "text": [
        "INFO\t2014-11-06 16:46:23\tSinglePassSamProgram\tProcessed     7,000,000 records.  Elapsed time: 00:00:34s.  Time for last 1,000,000:    4s.  Last read position: chr19:19,105,499\r\n"
       ]
      },
      {
       "output_type": "stream",
       "stream": "stdout",
       "text": [
        "INFO\t2014-11-06 16:46:28\tSinglePassSamProgram\tProcessed     8,000,000 records.  Elapsed time: 00:00:39s.  Time for last 1,000,000:    5s.  Last read position: chr19:29,099,069\r\n"
       ]
      },
      {
       "output_type": "stream",
       "stream": "stdout",
       "text": [
        "INFO\t2014-11-06 16:46:33\tSinglePassSamProgram\tProcessed     9,000,000 records.  Elapsed time: 00:00:44s.  Time for last 1,000,000:    5s.  Last read position: chr19:36,606,411\r\n"
       ]
      },
      {
       "output_type": "stream",
       "stream": "stdout",
       "text": [
        "INFO\t2014-11-06 16:46:38\tSinglePassSamProgram\tProcessed    10,000,000 records.  Elapsed time: 00:00:49s.  Time for last 1,000,000:    4s.  Last read position: chr19:39,964,920\r\n"
       ]
      },
      {
       "output_type": "stream",
       "stream": "stdout",
       "text": [
        "INFO\t2014-11-06 16:46:42\tSinglePassSamProgram\tProcessed    11,000,000 records.  Elapsed time: 00:00:54s.  Time for last 1,000,000:    4s.  Last read position: chr19:44,273,894\r\n"
       ]
      },
      {
       "output_type": "stream",
       "stream": "stdout",
       "text": [
        "INFO\t2014-11-06 16:46:47\tSinglePassSamProgram\tProcessed    12,000,000 records.  Elapsed time: 00:00:58s.  Time for last 1,000,000:    4s.  Last read position: chr19:49,120,045\r\n"
       ]
      },
      {
       "output_type": "stream",
       "stream": "stdout",
       "text": [
        "INFO\t2014-11-06 16:46:52\tSinglePassSamProgram\tProcessed    13,000,000 records.  Elapsed time: 00:01:03s.  Time for last 1,000,000:    5s.  Last read position: chr19:50,304,761\r\n"
       ]
      },
      {
       "output_type": "stream",
       "stream": "stdout",
       "text": [
        "INFO\t2014-11-06 16:46:57\tSinglePassSamProgram\tProcessed    14,000,000 records.  Elapsed time: 00:01:08s.  Time for last 1,000,000:    4s.  Last read position: chr19:55,606,864\r\n"
       ]
      },
      {
       "output_type": "stream",
       "stream": "stdout",
       "text": [
        "INFO\t2014-11-06 16:47:02\tRExecutor\tExecuting R script via command: Rscript /tmp/andreas/script7848047448759118232.R /ifs/devel/andreas/cgat-scrum/recipes/Recipe05-StrippingBamFiles/metrics.txt.quality_distribution_metrics /ifs/devel/andreas/cgat-scrum/recipes/Recipe05-StrippingBamFiles/metrics.txt.quality_distribution.pdf stdin \r\n"
       ]
      },
      {
       "output_type": "stream",
       "stream": "stdout",
       "text": [
        "INFO\t2014-11-06 16:47:02\tProcessExecutor\tnull device \r\n",
        "INFO\t2014-11-06 16:47:02\tProcessExecutor\t          1 \r\n"
       ]
      },
      {
       "output_type": "stream",
       "stream": "stdout",
       "text": [
        "INFO\t2014-11-06 16:47:05\tRExecutor\tExecuting R script via command: Rscript /tmp/andreas/script307526443269685001.R /ifs/devel/andreas/cgat-scrum/recipes/Recipe05-StrippingBamFiles/metrics.txt.insert_size_metrics /ifs/devel/andreas/cgat-scrum/recipes/Recipe05-StrippingBamFiles/metrics.txt.insert_size_histogram.pdf stdin\r\n"
       ]
      },
      {
       "output_type": "stream",
       "stream": "stdout",
       "text": [
        "INFO\t2014-11-06 16:47:05\tProcessExecutor\tnull device \r\n",
        "INFO\t2014-11-06 16:47:05\tProcessExecutor\t          1 \r\n"
       ]
      },
      {
       "output_type": "stream",
       "stream": "stdout",
       "text": [
        "INFO\t2014-11-06 16:47:05\tRExecutor\tExecuting R script via command: Rscript /tmp/andreas/script2030454138501714520.R /ifs/devel/andreas/cgat-scrum/recipes/Recipe05-StrippingBamFiles/metrics.txt.quality_by_cycle_metrics /ifs/devel/andreas/cgat-scrum/recipes/Recipe05-StrippingBamFiles/metrics.txt.quality_by_cycle.pdf stdin \r\n"
       ]
      },
      {
       "output_type": "stream",
       "stream": "stdout",
       "text": [
        "INFO\t2014-11-06 16:47:05\tProcessExecutor\tnull device \r\n",
        "INFO\t2014-11-06 16:47:05\tProcessExecutor\t          1 \r\n",
        "[Thu Nov 06 16:47:05 GMT 2014] net.sf.picard.analysis.CollectMultipleMetrics done. Elapsed time: 1.30 minutes.\r\n",
        "Runtime.totalMemory()=85000192\r\n"
       ]
      }
     ],
     "prompt_number": 8
    },
    {
     "cell_type": "markdown",
     "metadata": {},
     "source": [
      "And voila, picard works. Of course, some metrics will not be meaningful without the read sequences and base quality scores. The original sequence can be added back using the *unstrip* option. Note that this is operation might take some\n",
      "time and require a substantial amount of memory. It is thus best left for debugging purposes only. If sequence is required in a BAM file, it is best to leave it in."
     ]
    },
    {
     "cell_type": "code",
     "collapsed": false,
     "input": [
      "!cgat bam2bam --method=unstrip -1 rnaseq_hg19_chr19.fastq.1.gz -2 rnaseq_hg19_chr19.fastq.2.gz --log=unstrip.log < stripped.bam > unstripped.bam"
     ],
     "language": "python",
     "metadata": {},
     "outputs": [],
     "prompt_number": 11
    },
    {
     "cell_type": "markdown",
     "metadata": {},
     "source": [
      "To check if we got our original file back, we can compare the sequence contents. Note that the files might not be binary equal.\n",
      "To save time, we are checking only if the first 1000 lines are equal (ignore the errors resulting from closing the samtools pipe after 1000 lines)."
     ]
    },
    {
     "cell_type": "code",
     "collapsed": false,
     "input": [
      "!samtools view unstripped.bam | head -n 1000 > a\n",
      "!samtools view rnaseq_hg19_chr19.bam | head -n 1000 > b\n",
      "!diff a b\n",
      "!rm -f a b"
     ],
     "language": "python",
     "metadata": {},
     "outputs": [
      {
       "output_type": "stream",
       "stream": "stdout",
       "text": [
        "samtools: writing to standard output failed: Broken pipe\r\n",
        "samtools: error closing standard output: -1\r\n"
       ]
      },
      {
       "output_type": "stream",
       "stream": "stdout",
       "text": [
        "samtools: writing to standard output failed: Broken pipe\r\n",
        "samtools: error closing standard output: -1\r\n"
       ]
      }
     ],
     "prompt_number": 1
    }
   ],
   "metadata": {}
  }
 ]
}