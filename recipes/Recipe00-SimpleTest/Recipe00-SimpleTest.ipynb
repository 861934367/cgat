{
 "metadata": {
  "name": ""
 },
 "nbformat": 3,
 "nbformat_minor": 0,
 "worksheets": [
  {
   "cells": [
    {
     "cell_type": "markdown",
     "metadata": {},
     "source": [
      "Simple notebook"
     ]
    },
    {
     "cell_type": "code",
     "collapsed": false,
     "input": [
      "!cgat --help"
     ],
     "language": "python",
     "metadata": {},
     "outputs": [
      {
       "output_type": "stream",
       "stream": "stdout",
       "text": [
        "\r\n",
        "cgat.py - Computational Genomics Analysis Tools\r\n",
        "===============================================\r\n",
        "\r\n",
        ":Author: Andreas Heger, CGAT\r\n",
        ":Release: $Id$\r\n",
        ":Date: |today|\r\n",
        ":Tags: Genomics\r\n",
        "\r\n",
        "To use a specific tool, type::\r\n",
        "\r\n",
        "    cgat <tool> [tool options] [tool arguments]\r\n",
        "\r\n",
        "Tools are grouped by keywords. For this message and a list of\r\n",
        "available keywords type::\r\n",
        "    \r\n",
        "    cgat --help\r\n",
        "\r\n",
        "For a list of tools matching a certain keyword, type::\r\n",
        "\r\n",
        "   cgat --help <keyword>\r\n",
        "\r\n",
        "or::\r\n",
        "\r\n",
        "   cgat --help all\r\n",
        "\r\n",
        "for a list of all available tools.\r\n",
        "\r\n",
        "To get help for a specific tool, type::\r\n",
        "\r\n",
        "    cgat <tool> --help\r\n",
        "\r\n"
       ]
      },
      {
       "output_type": "stream",
       "stream": "stdout",
       "text": [
        "CGAT tools are grouped by keywords. The following keywords\r\n",
        "are defined:\r\n",
        "\r\n",
        "Genomics              FASTQ                 Variants             \r\n",
        "Conversion            Manipulation          PSL                  \r\n",
        "MultipleAlignments    FASTA                 Intervals            \r\n",
        "BED                   Annotation            Sequences            \r\n",
        "WIGGLE                Comparison            Protein              \r\n",
        "NGS                   GTF                   Counting             \r\n",
        "BAM                   Summary               GFF                  \r\n",
        "Transformation        Genesets              Geneset              \r\n",
        "CHAIN                 Fasta                                      \r\n",
        "\r\n"
       ]
      }
     ],
     "prompt_number": 1
    },
    {
     "cell_type": "code",
     "collapsed": false,
     "input": [],
     "language": "python",
     "metadata": {},
     "outputs": []
    }
   ],
   "metadata": {}
  }
 ]
}