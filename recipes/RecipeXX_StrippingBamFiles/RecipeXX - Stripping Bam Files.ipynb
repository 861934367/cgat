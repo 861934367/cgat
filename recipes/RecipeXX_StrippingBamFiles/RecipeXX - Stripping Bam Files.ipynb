{
 "metadata": {
  "name": ""
 },
 "nbformat": 3,
 "nbformat_minor": 0,
 "worksheets": [
  {
   "cells": [
    {
     "cell_type": "heading",
     "level": 1,
     "metadata": {},
     "source": [
      "Stripping BAM files of sequence/quality information"
     ]
    },
    {
     "cell_type": "markdown",
     "metadata": {},
     "source": [
      "BAM files contain the alignment information for reads mapping\n",
      "to a genome. This information includes the position a read\n",
      "matches, various flags and quality metrics of the match, but also\n",
      "the sequence of a read and the base quality scores of a read.\n",
      "\n",
      "The read sequence and base quality scores are essential for deduping and\n",
      "for applications such as variant calling. But once your are think \n",
      "that your BAM-files contains only reads that have been mapped with\n",
      "confidence, the sequence and base quality scores are not required\n",
      "for tag counting applications such as RNA-seq or ChIP-seq and can\n",
      "be discarded.\n",
      "\n",
      "The mapped  positions could be converted into a bed file, but for workflows\n",
      "requiring bam-files, the *bam2bam* utility permits removing\n",
      "read sequences and quality scores directly."
     ]
    },
    {
     "cell_type": "markdown",
     "metadata": {},
     "source": [
      "The following command will remove the sequence and quality information from the file rnaseq_hg19_chr19.bam"
     ]
    },
    {
     "cell_type": "code",
     "collapsed": false,
     "input": [
      "!cgat bam2bam --strip=sequence --log=strip.log < rnaseq_hg19_chr19.bam > stripped.bam"
     ],
     "language": "python",
     "metadata": {},
     "outputs": [
      {
       "output_type": "stream",
       "stream": "stdout",
       "text": [
        "/bin/sh: rnaseq_hg19_chr19.bam: No such file or directory\r\n"
       ]
      }
     ],
     "prompt_number": 6
    },
    {
     "cell_type": "code",
     "collapsed": false,
     "input": [
      "!ls -hl rnaseq_hg19_chr19.bam stripped.bam"
     ],
     "language": "python",
     "metadata": {},
     "outputs": [
      {
       "output_type": "stream",
       "stream": "stdout",
       "text": [
        "ls: cannot access rnaseq_hg19_chr19.bam: No such file or directory\r\n",
        "ls: cannot access stripped.bam: No such file or directory\r\n"
       ]
      }
     ],
     "prompt_number": 7
    },
    {
     "cell_type": "raw",
     "metadata": {},
     "source": [
      "The size of the BAM files has dropped from 788M to 215M. The bam-file can be used for further processing."
     ]
    },
    {
     "cell_type": "code",
     "collapsed": false,
     "input": [
      "!samtools flagstat stripped.bam"
     ],
     "language": "python",
     "metadata": {},
     "outputs": [
      {
       "output_type": "stream",
       "stream": "stdout",
       "text": [
        "open: No such file or directory\r\n",
        "samtools: bam_stat.c:59: bam_flagstat: Assertion `fp' failed.\r\n"
       ]
      }
     ],
     "prompt_number": 8
    },
    {
     "cell_type": "markdown",
     "metadata": {},
     "source": [
      "Nothing has changed compared to our original bam file"
     ]
    },
    {
     "cell_type": "code",
     "collapsed": false,
     "input": [
      "!samtools flagstat rnaseq_hg19_chr19.bam"
     ],
     "language": "python",
     "metadata": {},
     "outputs": [
      {
       "output_type": "stream",
       "stream": "stdout",
       "text": [
        "open: No such file or directory\r\n",
        "samtools: bam_stat.c:59: bam_flagstat: Assertion `fp' failed.\r\n"
       ]
      }
     ],
     "prompt_number": 9
    },
    {
     "cell_type": "raw",
     "metadata": {},
     "source": [
      "Some tools might fail if there is no sequence information in the bam file."
     ]
    },
    {
     "cell_type": "code",
     "collapsed": false,
     "input": [
      "!cat stripped.bam | CollectMultipleMetrics INPUT=/dev/stdin OUTPUT=metrics.txt"
     ],
     "language": "python",
     "metadata": {},
     "outputs": [
      {
       "output_type": "stream",
       "stream": "stdout",
       "text": [
        "cat: stripped.bam: No such file or directory\r\n"
       ]
      },
      {
       "output_type": "stream",
       "stream": "stdout",
       "text": [
        "[Wed Apr 02 16:49:35 BST 2014] net.sf.picard.analysis.CollectMultipleMetrics INPUT=/dev/stdin OUTPUT=metrics.txt    ASSUME_SORTED=true STOP_AFTER=0 PROGRAM=[CollectAlignmentSummaryMetrics, CollectInsertSizeMetrics, QualityScoreDistribution, MeanQualityByCycle] VERBOSITY=INFO QUIET=false VALIDATION_STRINGENCY=STRICT COMPRESSION_LEVEL=5 MAX_RECORDS_IN_RAM=500000 CREATE_INDEX=false CREATE_MD5_FILE=false\r\n"
       ]
      },
      {
       "output_type": "stream",
       "stream": "stdout",
       "text": [
        "[Wed Apr 02 16:49:35 BST 2014] Executing as andreas@cgat150.anat.ox.ac.uk on Linux 2.6.32-431.el6.x86_64 amd64; Java HotSpot(TM) 64-Bit Server VM 1.6.0_26-b03; Picard version: 1.106(1655) IntelDeflater\r\n",
        "WARNING\t2014-04-02 16:49:35\tSinglePassSamProgram\tFile reports sort order 'unsorted', assuming it's coordinate sorted anyway.\r\n",
        "WARNING\t2014-04-02 16:49:35\tCollectAlignmentSummaryMetrics\t/dev/stdin has no sequence dictionary.  If any reads in the file are aligned then alignment summary metrics collection will fail.\r\n"
       ]
      },
      {
       "output_type": "stream",
       "stream": "stdout",
       "text": [
        "WARNING\t2014-04-02 16:49:35\tQualityScoreDistribution\tNo valid bases found in input file. No plot will be produced.\r\n",
        "WARNING\t2014-04-02 16:49:35\tCollectInsertSizeMetrics\tAll data categories were discarded because they contained < 0.05 of the total aligned paired data.\r\n",
        "WARNING\t2014-04-02 16:49:35\tCollectInsertSizeMetrics\tTotal mapped pairs in all categories: 0.0\r\n",
        "WARNING\t2014-04-02 16:49:35\tMeanQualityByCycle\tNo valid bases found in input file. No plot will be produced.\r\n",
        "[Wed Apr 02 16:49:35 BST 2014] net.sf.picard.analysis.CollectMultipleMetrics done. Elapsed time: 0.00 minutes.\r\n",
        "Runtime.totalMemory()=85000192\r\n"
       ]
      }
     ],
     "prompt_number": 10
    },
    {
     "cell_type": "raw",
     "metadata": {},
     "source": [
      "In this case, the sequence information can be added back either with dummy sequence:"
     ]
    },
    {
     "cell_type": "code",
     "collapsed": false,
     "input": [
      "!cat rnaseq_hg19_chr19.bam | cgat bam2bam -v 0 --set-sequence --sam - | CollectMultipleMetrics INPUT=/dev/stdin OUTPUT=metrics.txt VALIDATION_STRINGENCY=SILENT"
     ],
     "language": "python",
     "metadata": {},
     "outputs": [
      {
       "output_type": "stream",
       "stream": "stdout",
       "text": [
        "cat: rnaseq_hg19_chr19.bam: No such file or directory\r\n"
       ]
      },
      {
       "output_type": "stream",
       "stream": "stdout",
       "text": [
        "[Wed Apr 02 16:49:35 BST 2014] net.sf.picard.analysis.CollectMultipleMetrics INPUT=/dev/stdin OUTPUT=metrics.txt VALIDATION_STRINGENCY=SILENT    ASSUME_SORTED=true STOP_AFTER=0 PROGRAM=[CollectAlignmentSummaryMetrics, CollectInsertSizeMetrics, QualityScoreDistribution, MeanQualityByCycle] VERBOSITY=INFO QUIET=false COMPRESSION_LEVEL=5 MAX_RECORDS_IN_RAM=500000 CREATE_INDEX=false CREATE_MD5_FILE=false\r\n"
       ]
      },
      {
       "output_type": "stream",
       "stream": "stdout",
       "text": [
        "[Wed Apr 02 16:49:35 BST 2014] Executing as andreas@cgat150.anat.ox.ac.uk on Linux 2.6.32-431.el6.x86_64 amd64; Java HotSpot(TM) 64-Bit Server VM 1.6.0_26-b03; Picard version: 1.106(1655) IntelDeflater\r\n"
       ]
      },
      {
       "output_type": "stream",
       "stream": "stdout",
       "text": [
        "Traceback (most recent call last):\r\n",
        "  File \"/ifs/devel/andreas/python/bin/cgat\", line 9, in <module>\r\n",
        "    load_entry_point('CGAT==0.2.0', 'console_scripts', 'cgat')()\r\n",
        "  File \"/ifs/devel/andreas/python/lib/python2.7/site-packages/CGAT-0.2.0-py2.7-linux-x86_64.egg/CGATScripts/cgat.py\", line 129, in main\r\n",
        "    module.main(sys.argv)\r\n",
        "  File \"/ifs/devel/andreas/python/lib/python2.7/site-packages/CGAT-0.2.0-py2.7-linux-x86_64.egg/CGATScripts/bam2bam.py\", line 197, in main\r\n",
        "    pysam_in = pysam.Samfile(bamfile, \"rb\")\r\n",
        "  File \"csamtools.pyx\", line 704, in pysam.csamtools.Samfile.__cinit__ (pysam/csamtools.c:8629)\r\n",
        "  File \"csamtools.pyx\", line 848, in pysam.csamtools.Samfile._open (pysam/csamtools.c:10254)\r\n",
        "ValueError: file does not have valid header (mode='rb') - is it BAM format?\r\n",
        "WARNING\t2014-04-02 16:49:36\tSinglePassSamProgram\tFile reports sort order 'unsorted', assuming it's coordinate sorted anyway.\r\n",
        "WARNING\t2014-04-02 16:49:36\tCollectAlignmentSummaryMetrics\t/dev/stdin has no sequence dictionary.  If any reads in the file are aligned then alignment summary metrics collection will fail.\r\n"
       ]
      },
      {
       "output_type": "stream",
       "stream": "stdout",
       "text": [
        "WARNING\t2014-04-02 16:49:36\tQualityScoreDistribution\tNo valid bases found in input file. No plot will be produced.\r\n",
        "WARNING\t2014-04-02 16:49:36\tCollectInsertSizeMetrics\tAll data categories were discarded because they contained < 0.05 of the total aligned paired data.\r\n",
        "WARNING\t2014-04-02 16:49:36\tCollectInsertSizeMetrics\tTotal mapped pairs in all categories: 0.0\r\n",
        "WARNING\t2014-04-02 16:49:36\tMeanQualityByCycle\tNo valid bases found in input file. No plot will be produced.\r\n",
        "[Wed Apr 02 16:49:36 BST 2014] net.sf.picard.analysis.CollectMultipleMetrics done. Elapsed time: 0.01 minutes.\r\n",
        "Runtime.totalMemory()=85000192\r\n"
       ]
      }
     ],
     "prompt_number": 11
    },
    {
     "cell_type": "markdown",
     "metadata": {},
     "source": [
      "Of course, some metrics will not be meaningful without the read sequences and base quality scores. The original sequence can be added back using the *unstrip* option."
     ]
    },
    {
     "cell_type": "code",
     "collapsed": false,
     "input": [
      "!cgat bam2bam --unstrip -1 rnaseq_hg19_chr19.fastq.1.gz -2 rnaseq_hg19_chr19.fastq.2.gz --log=unstrip.log < stripped.bam > unstripped.bam"
     ],
     "language": "python",
     "metadata": {},
     "outputs": [
      {
       "output_type": "stream",
       "stream": "stdout",
       "text": [
        "/bin/sh: stripped.bam: No such file or directory\r\n"
       ]
      }
     ],
     "prompt_number": 12
    },
    {
     "cell_type": "markdown",
     "metadata": {},
     "source": [
      "To check if we got our original file back, we can compare the sequence contents. Note that the files might not be binary equal.\n",
      "To save time, we are checking only if the first 1000 lines are equal."
     ]
    },
    {
     "cell_type": "code",
     "collapsed": false,
     "input": [
      "!samtools view unstripped.bam | head -n 1000 > a\n",
      "!samtools view rnaseq_hg19_chr19.bam | head -n 1000 > b\n",
      "!diff a b\n",
      "!rm -f a b"
     ],
     "language": "python",
     "metadata": {},
     "outputs": [
      {
       "output_type": "stream",
       "stream": "stdout",
       "text": [
        "open: No such file or directory\r\n",
        "[main_samview] fail to open \"unstripped.bam\" for reading.\r\n"
       ]
      },
      {
       "output_type": "stream",
       "stream": "stdout",
       "text": [
        "open: No such file or directory\r\n",
        "[main_samview] fail to open \"rnaseq_hg19_chr19.bam\" for reading.\r\n"
       ]
      }
     ],
     "prompt_number": 13
    }
   ],
   "metadata": {}
  }
 ]
}