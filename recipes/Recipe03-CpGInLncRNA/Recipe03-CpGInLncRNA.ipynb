{
 "metadata": {
  "name": "",
  "signature": "sha256:13c59fc970c7b41e291f04473fe97d530ff3908d8a16d125c27bcb47abe01c56"
 },
 "nbformat": 3,
 "nbformat_minor": 0,
 "worksheets": [
  {
   "cells": [
    {
     "cell_type": "heading",
     "level": 1,
     "metadata": {},
     "source": [
      "Assessing CpG content in long non-coding RNA promoters"
     ]
    },
    {
     "cell_type": "markdown",
     "metadata": {},
     "source": [
      "The description of pervasive transcription across many mammalian\n",
      "genomes has sparked an interest in the role of long non-coding RNAs in\n",
      "diverse biological systems. Transcripts derived from non-coding loci\n",
      "have been shown to be important in a number of different processes\n",
      "including development and cancer.  However, some features that are\n",
      "normally associated with protein coding genes are not observed in\n",
      "lncRNAs e.g they are less conserved. Protein coding gene promoters\n",
      "have a characteristically high GC content and CpG density. But do\n",
      "lncRNAs display the same bias in their promoters? In this example we\n",
      "show you how to use CGAT tools to answer this question. We will be\n",
      "using::\n",
      "\n",
      "    gtf2gtf\n",
      "    gtf2gff\n",
      "    gff2bed\n",
      "    bed2fasta\n",
      "    fasta2table\n",
      "\n",
      "Our initial input file is a :term:`gtf` formatted file containing\n",
      "genomic coordinates and annotations for a set of lncRNAs -\n",
      "lncRNA.gtf.gz. We can compute the GC and CpG composition using a\n",
      "single command line statement using multiple CGAT tools. However, as\n",
      "described in :ref:`quickstart`, we require an CGAT indexed genome as\n",
      "input to both gtf2gff.py and bed2fasta.py. The first step is therefore\n",
      "to create the indexed genome.\n",
      "\n",
      "First let us obtain a set of human lincRNA from ENSEMBL:\n",
      "\n",
      "    wget -qO- ftp://ftp.ensembl.org/pub/release-75/gtf/homo_sapiens/Homo_sapiens.GRCh37.75.gtf.gz\n",
      "    | gunzip\n",
      "    | awk \"$2 == 'lincRNA'\"\n",
      "    | gzip\n",
      "    > lncRNA.gtf.gz\n",
      "\n",
      "In our example our lncRNA transcript models are from an RNA-seq\n",
      "experiment in human cells. We can index the human hg19 reference\n",
      "genome by downloading the :term:`fasta` formatted genome from the UCSC\n",
      "website and running index_fasta.py:\n",
      "\n",
      "\twget http://hgdownload.cse.ucsc.edu/goldenPath/hg19/bigZips/chromFa.tar.gz |\n",
      "\tindex_fasta.py hg19 > hg19.log\n",
      "\n",
      "We can then use this indexed genome as additional input when required. \n",
      "\n",
      "The G+C content at promotors can then be computed with this command:"
     ]
    },
    {
     "cell_type": "code",
     "collapsed": false,
     "input": [
      "!zcat lincRNA.gtf.gz \\\n",
      "    | cgat gff2gff --method=sanitize --sanitize-method=genome --genome-file=hg19 --skip-missing \\\n",
      "    | cgat gtf2gtf --method=sort --sort-order=gene \\\n",
      "    | cgat gtf2gtf --method=merge-transcripts \\\n",
      "    | cgat gtf2gff --genome-file=hg19 --method=promotors -p 1500 --is-unsorted \\\n",
      "    | cgat gff2fasta --genome-file=hg19 \\\n",
      "    | cgat fasta2table --section=cpg \\\n",
      "    | gzip \\\n",
      "    > lincRNA_cpg.tsv.gz\n"
     ],
     "language": "python",
     "metadata": {},
     "outputs": [],
     "prompt_number": 1
    },
    {
     "cell_type": "markdown",
     "metadata": {},
     "source": [
      "The above commands in turn do the following:\n",
      "\n",
      "* gff2gff:\n",
      "    reconcile chromosome names in the gene set with those in the genome\n",
      "    removing any genes on chromosome that are not in the genome such as\n",
      "    ``HG1472_PATCH``.\n",
      "\n",
      "* gtf2gtf:\n",
      "    sorts the input file by gene identifier,\n",
      "\n",
      "* gtf2gtf:\n",
      "    merges transcripts that have the same gene identifier. Effectively\n",
      "    we will be using the most 5' transcription start as our promotor.\n",
      "    Other options are possible.\n",
      "\n",
      "* gtf2gff:\n",
      "   produces a set of lncRNA promoters 1.5Kb upstream of the lncRNA\n",
      "   transcription start sites (using ``--method=promotors`` in combination\n",
      "   with -p 1500)\n",
      "\n",
      "* gff2fasta:\n",
      "   retrieves sequences from the human hg19 reference genome \n",
      "   for lncRNA promoter intervals and \n",
      "\n",
      "* fasta2table:\n",
      "\n",
      "   outputs statistics related to nucleotide composition including CpG\n",
      "   content (specified with the ``--section=cpg`` option).\n",
      "   Alternative options for the ``--section`` option include:\n",
      "    length\n",
      "    na\n",
      "    aa\n",
      "    cpg \n",
      "    degeneracy\n",
      "    bias\n",
      "    codons\n",
      "    codon-usage\n",
      "    codon-translator\n",
      "    sequence  \n",
      "\n",
      "The output file ``lincRNA_cpg.tsv.gz`` will be a tab-delimited text\n",
      "file, which is straight-forward to load into statistical/plotting\n",
      "software such as R and perform further downstream analysis.\n"
     ]
    },
    {
     "cell_type": "code",
     "collapsed": false,
     "input": [
      "%load_ext rmagic\n",
      "%R data = read.table('lincRNA_cpg.tsv.gz', sep=\"\\t\", header=TRUE);\n",
      "%R print(head(data))"
     ],
     "language": "python",
     "metadata": {},
     "outputs": [
      {
       "metadata": {},
       "output_type": "display_data",
       "text": [
        "                                                                            id\n",
        "1   gene_id ENSG00000243485; transcript_id ENSG00000243485; chr1:+:28053-29553\n",
        "2   gene_id ENSG00000237613; transcript_id ENSG00000237613; chr1:-:36081-37581\n",
        "3 gene_id ENSG00000238009; transcript_id ENSG00000238009; chr1:-:133566-135066\n",
        "4   gene_id ENSG00000239945; transcript_id ENSG00000239945; chr1:-:91105-92605\n",
        "5 gene_id ENSG00000241860; transcript_id ENSG00000241860; chr1:-:173862-175362\n",
        "6 gene_id ENSG00000241599; transcript_id ENSG00000241599; chr1:+:158945-160445\n",
        "  CpG_count CpG_density CpG_ObsExp\n",
        "1       105  0.14000000  0.8629191\n",
        "2        15  0.02000000  0.1945340\n",
        "3        31  0.04133333  0.2906904\n",
        "4        18  0.02400000  0.2283916\n",
        "5        25  0.03333333  0.3595260\n",
        "6        13  0.01733333  0.1794853\n"
       ]
      }
     ],
     "prompt_number": 2
    },
    {
     "cell_type": "markdown",
     "metadata": {},
     "source": [
      "For example, we can plot the distribution of CpG density across promotors:"
     ]
    },
    {
     "cell_type": "code",
     "collapsed": false,
     "input": [
      "%R library(ggplot2)\n",
      "%R p = ggplot(data, aes(x=CpG_density)) + geom_density()\n",
      "%R plot(p);\n"
     ],
     "language": "python",
     "metadata": {},
     "outputs": [
      {
       "metadata": {},
       "output_type": "display_data",
       "png": "[encoded data removed]"
      }
     ],
     "prompt_number": 3
    },
    {
     "cell_type": "markdown",
     "metadata": {},
     "source": [
      "\n",
      "\n"
     ]
    }
   ],
   "metadata": {}
  }
 ]
}