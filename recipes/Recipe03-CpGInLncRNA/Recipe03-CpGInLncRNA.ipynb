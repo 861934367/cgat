{
 "metadata": {
  "name": ""
 },
 "nbformat": 3,
 "nbformat_minor": 0,
 "worksheets": [
  {
   "cells": [
    {
     "cell_type": "heading",
     "level": 1,
     "metadata": {},
     "source": [
      "Assessing CpG content in long non-coding RNA promoters"
     ]
    },
    {
     "cell_type": "markdown",
     "metadata": {},
     "source": [
      "The description of pervasive transcription across many mammalian\n",
      "genomes has sparked an interest in the role of long non-coding RNAs in\n",
      "diverse biological systems. Transcripts derived from non-coding loci\n",
      "have been shown to be important in a number of different processes\n",
      "including development and cancer.  However, some features that are\n",
      "normally associated with protein coding genes are not observed in\n",
      "lncRNAs e.g they are less conserved. Protein coding gene promoters\n",
      "have a characteristically high GC content and CpG density. But do\n",
      "lncRNAs display the same bias in their promoters? In this example we\n",
      "show you how to use CGAT tools to answer this question. We will be\n",
      "using::\n",
      "\n",
      "    gtf2gtf\n",
      "    gtf2gff\n",
      "    gff2bed\n",
      "    bed2fasta\n",
      "    fasta2table\n",
      "\n",
      "Our initial input file is a :term:`gtf` formatted file containing\n",
      "genomic coordinates and annotations for a set of lncRNAs -\n",
      "lncRNA.gtf.gz. We can compute the GC and CpG composition using a\n",
      "single command line statement using multiple CGAT tools. However, as\n",
      "described in :ref:`quickstart`, we require an CGAT indexed genome as\n",
      "input to both gtf2gff.py and bed2fasta.py. The first step is therefore\n",
      "to create the indexed genome.\n",
      "\n",
      "First let us obtain a set of human lincRNA from ENSEMBL:\n",
      "\n",
      "    wget -qO- ftp://ftp.ensembl.org/pub/release-72/gtf/homo_sapiens/Homo_sapiens.GRCh37.72.gtf.gz\n",
      "    | awk '$2 == 'lincRNA'\n",
      "    | gzip\n",
      "    > lncRNA.gtf.gz\n",
      "\n",
      "In our example our lncRNA transcript models are from an RNA-seq\n",
      "experiment in human cells. We can index the human hg19 reference\n",
      "genome by downloading the :term:`fasta` formatted genome from the UCSC\n",
      "website and running index_fasta.py:\n",
      "\n",
      "\twget http://hgdownload.cse.ucsc.edu/goldenPath/hg19/bigZips/chromFa.tar.gz |\n",
      "\tindex_fasta.py hg19 > hg19.log\n",
      "\n",
      "We can then use this indexed genome as additional input when required. \n",
      "\n",
      "The G+C content at promotors can then be computed with this command:"
     ]
    },
    {
     "cell_type": "code",
     "collapsed": false,
     "input": [
      "!zcat lincRNA.gtf.gz \\\n",
      "    | cgat gff2gff --sanitize=genome --genome=hg19 --skip-missing \\\n",
      "    | cgat gtf2gtf --sort=gene \\\n",
      "    | cgat gtf2gtf --merge-transcripts \\\n",
      "    | cgat gtf2gff --genome-file=hg19 --method=promotors -p 1500 --sort \\\n",
      "    | cgat gff2bed \\\n",
      "    | cgat bed2fasta --genome-file=hg19 \\\n",
      "    | cgat fasta2table --section=cpg \\\n",
      "    | gzip \\\n",
      "    > lincRNA_cpg.tsv.gz\n"
     ],
     "language": "python",
     "metadata": {},
     "outputs": [],
     "prompt_number": 6
    },
    {
     "cell_type": "markdown",
     "metadata": {},
     "source": [
      "The above commands in turn do the following:\n",
      "\n",
      "* gff2gff:\n",
      "    reconcile chromosome names in the gene set with those in the genome\n",
      "    removing any genes on chromosome that are not in the genome such as\n",
      "    ``HG1472_PATCH``.\n",
      "\n",
      "* gtf2gtf:\n",
      "    sorts the input file by gene identifier,\n",
      "\n",
      "* gtf2gtf:\n",
      "    merges transcripts that have the same gene identifier. Effectively\n",
      "    we will be using the most 5' transcription start as our promotor.\n",
      "    Other options are possible.\n",
      "\n",
      "* gtf2gff:\n",
      "   produces a set of lncRNA promoters 1.5Kb upstream of the lncRNA\n",
      "   transcription start sites (using ``--method=promotors`` in combination\n",
      "   with -p 1500)\n",
      "\n",
      "* gff2bed:\n",
      "   converts gff formatted promoters into :term:`bed` format,\n",
      "\t\t\t      \n",
      "* bed2fasta:\n",
      "   retrieves sequences from the human hg19 reference genome \n",
      "   for lncRNA promoter intervals and \n",
      "\n",
      "* fasta2table:\n",
      "\n",
      "   outputs statistics related to nucleotide composition including CpG\n",
      "   content (specified with the ``--section=cpg`` option).\n",
      "   Alternative options for the ``--section`` option include:\n",
      "    length\n",
      "    na\n",
      "    aa\n",
      "    cpg \n",
      "    degeneracy\n",
      "    bias\n",
      "    codons\n",
      "    codon-usage\n",
      "    codon-translator\n",
      "    sequence  \n",
      "\n",
      "The output file ``lincRNA_cpg.tsv.gz`` will be a tab-delimited text\n",
      "file, which is straight-forward to load into statistical/plotting\n",
      "software such as R and perform further downstream analysis.\n"
     ]
    },
    {
     "cell_type": "code",
     "collapsed": false,
     "input": [
      "%load_ext rmagic\n",
      "%R data = read.table('lincRNA_cpg.tsv.gz', sep=\"\\t\", header=TRUE);\n",
      "%R print(head(data))"
     ],
     "language": "python",
     "metadata": {},
     "outputs": [
      {
       "output_type": "stream",
       "stream": "stdout",
       "text": [
        "The rmagic extension is already loaded. To reload it, use:\n",
        "  %reload_ext rmagic\n"
       ]
      },
      {
       "output_type": "display_data",
       "text": [
        "                                       id  nC  nG  nA  nT nN nUnk nGC nAT nCpG\n",
        "1   ENSG00000243485 chr1:28053..29553 (+) 468 390 310 332  0    0 858 642  105\n",
        "2   ENSG00000237613 chr1:36081..37581 (+) 287 403 441 369  0    0 690 810   15\n",
        "3 ENSG00000238009 chr1:133566..135066 (+) 406 394 338 362  0    0 800 700   31\n",
        "4   ENSG00000239945 chr1:91105..92605 (+) 323 366 394 417  0    0 689 811   18\n",
        "5 ENSG00000241860 chr1:173862..175362 (+) 318 328 493 361  0    0 646 854   25\n",
        "6 ENSG00000241599 chr1:158945..160445 (+) 346 314 461 379  0    0 660 840   13\n",
        "        pC       pG       pA       pT pN pUnk      pGC      pAT     pCpG\n",
        "1 0.312000 0.260000 0.206667 0.221333  0    0 0.572000 0.428000 0.140000\n",
        "2 0.191333 0.268667 0.294000 0.246000  0    0 0.460000 0.540000 0.020000\n",
        "3 0.270667 0.262667 0.225333 0.241333  0    0 0.533333 0.466667 0.041333\n",
        "4 0.215333 0.244000 0.262667 0.278000  0    0 0.459333 0.540667 0.024000\n",
        "5 0.212000 0.218667 0.328667 0.240667  0    0 0.430667 0.569333 0.033333\n",
        "6 0.230667 0.209333 0.307333 0.252667  0    0 0.440000 0.560000 0.017333\n",
        "  CpG_ObsExp\n",
        "1   0.862919\n",
        "2   0.194534\n",
        "3   0.290690\n",
        "4   0.228392\n",
        "5   0.359526\n",
        "6   0.179485\n"
       ]
      }
     ],
     "prompt_number": 21
    },
    {
     "cell_type": "markdown",
     "metadata": {},
     "source": [
      "For example, we can plot the distribution of CpG density across promotors:"
     ]
    },
    {
     "cell_type": "code",
     "collapsed": false,
     "input": [
      "%R library(ggplot2)\n",
      "%R p = ggplot(data, aes(x=pCpG)) + geom_density()\n",
      "%R plot(p);\n"
     ],
     "language": "python",
     "metadata": {},
     "outputs": [
      {
       "output_type": "display_data",
       "png": "[encoded data removed]"
      }
     ],
     "prompt_number": 27
    },
    {
     "cell_type": "markdown",
     "metadata": {},
     "source": [
      "\n",
      "\n"
     ]
    }
   ],
   "metadata": {}
  }
 ]
}